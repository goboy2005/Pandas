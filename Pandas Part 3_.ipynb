{
  "nbformat": 4,
  "nbformat_minor": 0,
  "metadata": {
    "colab": {
      "name": "Pandas Part 3 .ipynb",
      "provenance": [],
      "collapsed_sections": [],
      "authorship_tag": "ABX9TyPdzk9rlNZegLTawV+GUHNZ",
      "include_colab_link": true
    },
    "kernelspec": {
      "name": "python3",
      "display_name": "Python 3"
    }
  },
  "cells": [
    {
      "cell_type": "markdown",
      "metadata": {
        "id": "view-in-github",
        "colab_type": "text"
      },
      "source": [
        "<a href=\"https://colab.research.google.com/github/goboy2005/Pandas/blob/main/Pandas%20Part%203_.ipynb\" target=\"_parent\"><img src=\"https://colab.research.google.com/assets/colab-badge.svg\" alt=\"Open In Colab\"/></a>"
      ]
    },
    {
      "cell_type": "code",
      "metadata": {
        "id": "OPXvchzvP5sU"
      },
      "source": [
        "#예제 3-1 \r\n",
        "import pandas as pd"
      ],
      "execution_count": null,
      "outputs": []
    },
    {
      "cell_type": "code",
      "metadata": {
        "id": "G-zLL_9UP8Xi"
      },
      "source": [
        "#read_csv() 함수로 df 생성\r\n",
        "df=pd.read_csv(\"auto-mpg.csv\",header=None)"
      ],
      "execution_count": null,
      "outputs": []
    },
    {
      "cell_type": "code",
      "metadata": {
        "colab": {
          "base_uri": "https://localhost:8080/"
        },
        "id": "Q_XwNUfUQwfq",
        "outputId": "15cb4b6a-ce13-4059-8b23-b8286d3b0736"
      },
      "source": [
        "# 열이름 지정\r\n",
        "df.columns=(\"mpg\",\"cylinder\",\"displacement\",\"horsepower\",\"weight\",\r\n",
        "           \"acceleration\",\"model year\", \"origin\",\"name\")\r\n",
        "print(df.head(5))\r\n",
        "print('\\n')\r\n",
        "print(df.tail(5))"
      ],
      "execution_count": null,
      "outputs": [
        {
          "output_type": "stream",
          "text": [
            "    mpg  cylinder  displacement  ... model year  origin                       name\n",
            "0  18.0         8         307.0  ...         70       1  chevrolet chevelle malibu\n",
            "1  15.0         8         350.0  ...         70       1          buick skylark 320\n",
            "2  18.0         8         318.0  ...         70       1         plymouth satellite\n",
            "3  16.0         8         304.0  ...         70       1              amc rebel sst\n",
            "4  17.0         8         302.0  ...         70       1                ford torino\n",
            "\n",
            "[5 rows x 9 columns]\n",
            "\n",
            "\n",
            "      mpg  cylinder  displacement  ... model year  origin             name\n",
            "393  27.0         4         140.0  ...         82       1  ford mustang gl\n",
            "394  44.0         4          97.0  ...         82       2        vw pickup\n",
            "395  32.0         4         135.0  ...         82       1    dodge rampage\n",
            "396  28.0         4         120.0  ...         82       1      ford ranger\n",
            "397  31.0         4         119.0  ...         82       1       chevy s-10\n",
            "\n",
            "[5 rows x 9 columns]\n"
          ],
          "name": "stdout"
        }
      ]
    },
    {
      "cell_type": "code",
      "metadata": {
        "colab": {
          "base_uri": "https://localhost:8080/"
        },
        "id": "DZGik1pISXva",
        "outputId": "2749404c-9db9-4fce-d502-6a3776f40921"
      },
      "source": [
        "print(df.shape)"
      ],
      "execution_count": null,
      "outputs": [
        {
          "output_type": "stream",
          "text": [
            "(398, 9)\n"
          ],
          "name": "stdout"
        }
      ]
    },
    {
      "cell_type": "code",
      "metadata": {
        "colab": {
          "base_uri": "https://localhost:8080/"
        },
        "id": "oKkbD39OSr-x",
        "outputId": "833caada-ce38-477c-83d3-ed97aabeb2dd"
      },
      "source": [
        "print(df.info())\r\n",
        "# 첫 행에 데이터 프레임 df의 클래스 유형인 <class 'pandas.core.frame.DataFrame'> 이 출력된다.\r\n",
        "#398 개의 행과/ 9개의 열로 이루어진 것을 확인할 수 있다. "
      ],
      "execution_count": null,
      "outputs": [
        {
          "output_type": "stream",
          "text": [
            "<class 'pandas.core.frame.DataFrame'>\n",
            "RangeIndex: 398 entries, 0 to 397\n",
            "Data columns (total 9 columns):\n",
            " #   Column  Non-Null Count  Dtype  \n",
            "---  ------  --------------  -----  \n",
            " 0   0       398 non-null    float64\n",
            " 1   1       398 non-null    int64  \n",
            " 2   2       398 non-null    float64\n",
            " 3   3       398 non-null    object \n",
            " 4   4       398 non-null    float64\n",
            " 5   5       398 non-null    float64\n",
            " 6   6       398 non-null    int64  \n",
            " 7   7       398 non-null    int64  \n",
            " 8   8       398 non-null    object \n",
            "dtypes: float64(4), int64(3), object(2)\n",
            "memory usage: 28.1+ KB\n",
            "None\n"
          ],
          "name": "stdout"
        }
      ]
    },
    {
      "cell_type": "code",
      "metadata": {
        "colab": {
          "base_uri": "https://localhost:8080/"
        },
        "id": "qcSWyM_OTdy5",
        "outputId": "e83bd5c3-cdae-4a12-d5f7-f6cae7d64e85"
      },
      "source": [
        "print(df.dtypes)\r\n",
        "#print(df.mpg.dtypes)"
      ],
      "execution_count": null,
      "outputs": [
        {
          "output_type": "stream",
          "text": [
            "mpg             float64\n",
            "cylinder          int64\n",
            "displacement    float64\n",
            "horsepower       object\n",
            "weight          float64\n",
            "acceleration    float64\n",
            "model year        int64\n",
            "origin            int64\n",
            "name             object\n",
            "dtype: object\n"
          ],
          "name": "stdout"
        }
      ]
    },
    {
      "cell_type": "code",
      "metadata": {
        "colab": {
          "base_uri": "https://localhost:8080/",
          "height": 291
        },
        "id": "g3wAJfl4TpEp",
        "outputId": "48a47cda-dc62-456d-e63d-69e20e078fd4"
      },
      "source": [
        "df.describe()"
      ],
      "execution_count": null,
      "outputs": [
        {
          "output_type": "execute_result",
          "data": {
            "text/html": [
              "<div>\n",
              "<style scoped>\n",
              "    .dataframe tbody tr th:only-of-type {\n",
              "        vertical-align: middle;\n",
              "    }\n",
              "\n",
              "    .dataframe tbody tr th {\n",
              "        vertical-align: top;\n",
              "    }\n",
              "\n",
              "    .dataframe thead th {\n",
              "        text-align: right;\n",
              "    }\n",
              "</style>\n",
              "<table border=\"1\" class=\"dataframe\">\n",
              "  <thead>\n",
              "    <tr style=\"text-align: right;\">\n",
              "      <th></th>\n",
              "      <th>mpg</th>\n",
              "      <th>cylinder</th>\n",
              "      <th>displacement</th>\n",
              "      <th>weight</th>\n",
              "      <th>acceleration</th>\n",
              "      <th>model year</th>\n",
              "      <th>origin</th>\n",
              "    </tr>\n",
              "  </thead>\n",
              "  <tbody>\n",
              "    <tr>\n",
              "      <th>count</th>\n",
              "      <td>398.000000</td>\n",
              "      <td>398.000000</td>\n",
              "      <td>398.000000</td>\n",
              "      <td>398.000000</td>\n",
              "      <td>398.000000</td>\n",
              "      <td>398.000000</td>\n",
              "      <td>398.000000</td>\n",
              "    </tr>\n",
              "    <tr>\n",
              "      <th>mean</th>\n",
              "      <td>23.514573</td>\n",
              "      <td>5.454774</td>\n",
              "      <td>193.425879</td>\n",
              "      <td>2970.424623</td>\n",
              "      <td>15.568090</td>\n",
              "      <td>76.010050</td>\n",
              "      <td>1.572864</td>\n",
              "    </tr>\n",
              "    <tr>\n",
              "      <th>std</th>\n",
              "      <td>7.815984</td>\n",
              "      <td>1.701004</td>\n",
              "      <td>104.269838</td>\n",
              "      <td>846.841774</td>\n",
              "      <td>2.757689</td>\n",
              "      <td>3.697627</td>\n",
              "      <td>0.802055</td>\n",
              "    </tr>\n",
              "    <tr>\n",
              "      <th>min</th>\n",
              "      <td>9.000000</td>\n",
              "      <td>3.000000</td>\n",
              "      <td>68.000000</td>\n",
              "      <td>1613.000000</td>\n",
              "      <td>8.000000</td>\n",
              "      <td>70.000000</td>\n",
              "      <td>1.000000</td>\n",
              "    </tr>\n",
              "    <tr>\n",
              "      <th>25%</th>\n",
              "      <td>17.500000</td>\n",
              "      <td>4.000000</td>\n",
              "      <td>104.250000</td>\n",
              "      <td>2223.750000</td>\n",
              "      <td>13.825000</td>\n",
              "      <td>73.000000</td>\n",
              "      <td>1.000000</td>\n",
              "    </tr>\n",
              "    <tr>\n",
              "      <th>50%</th>\n",
              "      <td>23.000000</td>\n",
              "      <td>4.000000</td>\n",
              "      <td>148.500000</td>\n",
              "      <td>2803.500000</td>\n",
              "      <td>15.500000</td>\n",
              "      <td>76.000000</td>\n",
              "      <td>1.000000</td>\n",
              "    </tr>\n",
              "    <tr>\n",
              "      <th>75%</th>\n",
              "      <td>29.000000</td>\n",
              "      <td>8.000000</td>\n",
              "      <td>262.000000</td>\n",
              "      <td>3608.000000</td>\n",
              "      <td>17.175000</td>\n",
              "      <td>79.000000</td>\n",
              "      <td>2.000000</td>\n",
              "    </tr>\n",
              "    <tr>\n",
              "      <th>max</th>\n",
              "      <td>46.600000</td>\n",
              "      <td>8.000000</td>\n",
              "      <td>455.000000</td>\n",
              "      <td>5140.000000</td>\n",
              "      <td>24.800000</td>\n",
              "      <td>82.000000</td>\n",
              "      <td>3.000000</td>\n",
              "    </tr>\n",
              "  </tbody>\n",
              "</table>\n",
              "</div>"
            ],
            "text/plain": [
              "              mpg    cylinder  ...  model year      origin\n",
              "count  398.000000  398.000000  ...  398.000000  398.000000\n",
              "mean    23.514573    5.454774  ...   76.010050    1.572864\n",
              "std      7.815984    1.701004  ...    3.697627    0.802055\n",
              "min      9.000000    3.000000  ...   70.000000    1.000000\n",
              "25%     17.500000    4.000000  ...   73.000000    1.000000\n",
              "50%     23.000000    4.000000  ...   76.000000    1.000000\n",
              "75%     29.000000    8.000000  ...   79.000000    2.000000\n",
              "max     46.600000    8.000000  ...   82.000000    3.000000\n",
              "\n",
              "[8 rows x 7 columns]"
            ]
          },
          "metadata": {
            "tags": []
          },
          "execution_count": 44
        }
      ]
    },
    {
      "cell_type": "code",
      "metadata": {
        "colab": {
          "base_uri": "https://localhost:8080/",
          "height": 382
        },
        "id": "SPsT5sm1Vi12",
        "outputId": "669c15ad-d27a-4422-c4a0-da49195ea6cf"
      },
      "source": [
        "df.describe(include='all')\r\n",
        "### unique : 고유값, top : 최빈값, freq:(빈도수) "
      ],
      "execution_count": null,
      "outputs": [
        {
          "output_type": "execute_result",
          "data": {
            "text/html": [
              "<div>\n",
              "<style scoped>\n",
              "    .dataframe tbody tr th:only-of-type {\n",
              "        vertical-align: middle;\n",
              "    }\n",
              "\n",
              "    .dataframe tbody tr th {\n",
              "        vertical-align: top;\n",
              "    }\n",
              "\n",
              "    .dataframe thead th {\n",
              "        text-align: right;\n",
              "    }\n",
              "</style>\n",
              "<table border=\"1\" class=\"dataframe\">\n",
              "  <thead>\n",
              "    <tr style=\"text-align: right;\">\n",
              "      <th></th>\n",
              "      <th>mpg</th>\n",
              "      <th>cylinder</th>\n",
              "      <th>displacement</th>\n",
              "      <th>horsepower</th>\n",
              "      <th>weight</th>\n",
              "      <th>acceleration</th>\n",
              "      <th>model year</th>\n",
              "      <th>origin</th>\n",
              "      <th>name</th>\n",
              "    </tr>\n",
              "  </thead>\n",
              "  <tbody>\n",
              "    <tr>\n",
              "      <th>count</th>\n",
              "      <td>398.000000</td>\n",
              "      <td>398.000000</td>\n",
              "      <td>398.000000</td>\n",
              "      <td>398</td>\n",
              "      <td>398.000000</td>\n",
              "      <td>398.000000</td>\n",
              "      <td>398.000000</td>\n",
              "      <td>398.000000</td>\n",
              "      <td>398</td>\n",
              "    </tr>\n",
              "    <tr>\n",
              "      <th>unique</th>\n",
              "      <td>NaN</td>\n",
              "      <td>NaN</td>\n",
              "      <td>NaN</td>\n",
              "      <td>94</td>\n",
              "      <td>NaN</td>\n",
              "      <td>NaN</td>\n",
              "      <td>NaN</td>\n",
              "      <td>NaN</td>\n",
              "      <td>305</td>\n",
              "    </tr>\n",
              "    <tr>\n",
              "      <th>top</th>\n",
              "      <td>NaN</td>\n",
              "      <td>NaN</td>\n",
              "      <td>NaN</td>\n",
              "      <td>150.0</td>\n",
              "      <td>NaN</td>\n",
              "      <td>NaN</td>\n",
              "      <td>NaN</td>\n",
              "      <td>NaN</td>\n",
              "      <td>ford pinto</td>\n",
              "    </tr>\n",
              "    <tr>\n",
              "      <th>freq</th>\n",
              "      <td>NaN</td>\n",
              "      <td>NaN</td>\n",
              "      <td>NaN</td>\n",
              "      <td>22</td>\n",
              "      <td>NaN</td>\n",
              "      <td>NaN</td>\n",
              "      <td>NaN</td>\n",
              "      <td>NaN</td>\n",
              "      <td>6</td>\n",
              "    </tr>\n",
              "    <tr>\n",
              "      <th>mean</th>\n",
              "      <td>23.514573</td>\n",
              "      <td>5.454774</td>\n",
              "      <td>193.425879</td>\n",
              "      <td>NaN</td>\n",
              "      <td>2970.424623</td>\n",
              "      <td>15.568090</td>\n",
              "      <td>76.010050</td>\n",
              "      <td>1.572864</td>\n",
              "      <td>NaN</td>\n",
              "    </tr>\n",
              "    <tr>\n",
              "      <th>std</th>\n",
              "      <td>7.815984</td>\n",
              "      <td>1.701004</td>\n",
              "      <td>104.269838</td>\n",
              "      <td>NaN</td>\n",
              "      <td>846.841774</td>\n",
              "      <td>2.757689</td>\n",
              "      <td>3.697627</td>\n",
              "      <td>0.802055</td>\n",
              "      <td>NaN</td>\n",
              "    </tr>\n",
              "    <tr>\n",
              "      <th>min</th>\n",
              "      <td>9.000000</td>\n",
              "      <td>3.000000</td>\n",
              "      <td>68.000000</td>\n",
              "      <td>NaN</td>\n",
              "      <td>1613.000000</td>\n",
              "      <td>8.000000</td>\n",
              "      <td>70.000000</td>\n",
              "      <td>1.000000</td>\n",
              "      <td>NaN</td>\n",
              "    </tr>\n",
              "    <tr>\n",
              "      <th>25%</th>\n",
              "      <td>17.500000</td>\n",
              "      <td>4.000000</td>\n",
              "      <td>104.250000</td>\n",
              "      <td>NaN</td>\n",
              "      <td>2223.750000</td>\n",
              "      <td>13.825000</td>\n",
              "      <td>73.000000</td>\n",
              "      <td>1.000000</td>\n",
              "      <td>NaN</td>\n",
              "    </tr>\n",
              "    <tr>\n",
              "      <th>50%</th>\n",
              "      <td>23.000000</td>\n",
              "      <td>4.000000</td>\n",
              "      <td>148.500000</td>\n",
              "      <td>NaN</td>\n",
              "      <td>2803.500000</td>\n",
              "      <td>15.500000</td>\n",
              "      <td>76.000000</td>\n",
              "      <td>1.000000</td>\n",
              "      <td>NaN</td>\n",
              "    </tr>\n",
              "    <tr>\n",
              "      <th>75%</th>\n",
              "      <td>29.000000</td>\n",
              "      <td>8.000000</td>\n",
              "      <td>262.000000</td>\n",
              "      <td>NaN</td>\n",
              "      <td>3608.000000</td>\n",
              "      <td>17.175000</td>\n",
              "      <td>79.000000</td>\n",
              "      <td>2.000000</td>\n",
              "      <td>NaN</td>\n",
              "    </tr>\n",
              "    <tr>\n",
              "      <th>max</th>\n",
              "      <td>46.600000</td>\n",
              "      <td>8.000000</td>\n",
              "      <td>455.000000</td>\n",
              "      <td>NaN</td>\n",
              "      <td>5140.000000</td>\n",
              "      <td>24.800000</td>\n",
              "      <td>82.000000</td>\n",
              "      <td>3.000000</td>\n",
              "      <td>NaN</td>\n",
              "    </tr>\n",
              "  </tbody>\n",
              "</table>\n",
              "</div>"
            ],
            "text/plain": [
              "               mpg    cylinder  ...      origin        name\n",
              "count   398.000000  398.000000  ...  398.000000         398\n",
              "unique         NaN         NaN  ...         NaN         305\n",
              "top            NaN         NaN  ...         NaN  ford pinto\n",
              "freq           NaN         NaN  ...         NaN           6\n",
              "mean     23.514573    5.454774  ...    1.572864         NaN\n",
              "std       7.815984    1.701004  ...    0.802055         NaN\n",
              "min       9.000000    3.000000  ...    1.000000         NaN\n",
              "25%      17.500000    4.000000  ...    1.000000         NaN\n",
              "50%      23.000000    4.000000  ...    1.000000         NaN\n",
              "75%      29.000000    8.000000  ...    2.000000         NaN\n",
              "max      46.600000    8.000000  ...    3.000000         NaN\n",
              "\n",
              "[11 rows x 9 columns]"
            ]
          },
          "metadata": {
            "tags": []
          },
          "execution_count": 46
        }
      ]
    },
    {
      "cell_type": "code",
      "metadata": {
        "colab": {
          "base_uri": "https://localhost:8080/"
        },
        "id": "1uGo6kQhWX63",
        "outputId": "083646f2-92d9-4204-f1cc-0611cfb4b1cf"
      },
      "source": [
        "df.count()"
      ],
      "execution_count": null,
      "outputs": [
        {
          "output_type": "execute_result",
          "data": {
            "text/plain": [
              "mpg             398\n",
              "cylinder        398\n",
              "displacement    398\n",
              "horsepower      398\n",
              "weight          398\n",
              "acceleration    398\n",
              "model year      398\n",
              "origin          398\n",
              "name            398\n",
              "dtype: int64"
            ]
          },
          "metadata": {
            "tags": []
          },
          "execution_count": 49
        }
      ]
    },
    {
      "cell_type": "code",
      "metadata": {
        "colab": {
          "base_uri": "https://localhost:8080/"
        },
        "id": "Ej2aIFfAWzis",
        "outputId": "f737bbb6-3fb0-43dd-d298-ea4beb4be9dc"
      },
      "source": [
        "unique_values=df[\"origin\"].value_counts() \r\n",
        "print(unique_values,)\r\n",
        "print(\"\\n\")\r\n",
        "print(type(unique_values))"
      ],
      "execution_count": null,
      "outputs": [
        {
          "output_type": "stream",
          "text": [
            "1    249\n",
            "3     79\n",
            "2     70\n",
            "Name: origin, dtype: int64\n",
            "\n",
            "\n",
            "<class 'pandas.core.series.Series'>\n"
          ],
          "name": "stdout"
        }
      ]
    },
    {
      "cell_type": "code",
      "metadata": {
        "colab": {
          "base_uri": "https://localhost:8080/"
        },
        "id": "Shr8LzLjYB9c",
        "outputId": "8876118c-24d8-40c3-d2a7-c5a670226ba5"
      },
      "source": [
        "#2-1 평균값 \r\n",
        "print(df['mpg'].mean())"
      ],
      "execution_count": null,
      "outputs": [
        {
          "output_type": "stream",
          "text": [
            "23.514572864321615\n"
          ],
          "name": "stdout"
        }
      ]
    },
    {
      "cell_type": "code",
      "metadata": {
        "colab": {
          "base_uri": "https://localhost:8080/"
        },
        "id": "JCBrRjiQY_in",
        "outputId": "b28983a1-5c25-4b47-c330-02d8864b38e4"
      },
      "source": [
        "print(df.mpg.mean())"
      ],
      "execution_count": null,
      "outputs": [
        {
          "output_type": "stream",
          "text": [
            "23.514572864321615\n"
          ],
          "name": "stdout"
        }
      ]
    },
    {
      "cell_type": "code",
      "metadata": {
        "colab": {
          "base_uri": "https://localhost:8080/"
        },
        "id": "0VnLDOHQZc7Y",
        "outputId": "e78f3292-290f-4c68-bf15-a3955860b1a8"
      },
      "source": [
        "print(df[['mpg','weight']].mean())"
      ],
      "execution_count": null,
      "outputs": [
        {
          "output_type": "stream",
          "text": [
            "mpg         23.514573\n",
            "weight    2970.424623\n",
            "dtype: float64\n"
          ],
          "name": "stdout"
        }
      ]
    },
    {
      "cell_type": "code",
      "metadata": {
        "colab": {
          "base_uri": "https://localhost:8080/"
        },
        "id": "vTpRjGD8Z4pS",
        "outputId": "225aeff7-47ca-45c1-8f17-bbea1f4601dc"
      },
      "source": [
        "#2-2 중간값\r\n",
        "print(df.mpg.median())\r\n",
        "print(df['mpg'].median())\r\n",
        "print(df[['mpg','weight']].median())"
      ],
      "execution_count": null,
      "outputs": [
        {
          "output_type": "stream",
          "text": [
            "23.0\n",
            "23.0\n",
            "mpg         23.0\n",
            "weight    2803.5\n",
            "dtype: float64\n"
          ],
          "name": "stdout"
        }
      ]
    },
    {
      "cell_type": "code",
      "metadata": {
        "colab": {
          "base_uri": "https://localhost:8080/"
        },
        "id": "O8O5klN_aMRx",
        "outputId": "601840b5-d8c7-4b46-ef6d-a993f873a7f7"
      },
      "source": [
        "#2-3  max()\r\n",
        "print(df.mpg.max())\r\n",
        "print(df['weight'].max() )\r\n",
        "print(\"\\n\")\r\n",
        "print(df[['mpg','weight']].max())"
      ],
      "execution_count": null,
      "outputs": [
        {
          "output_type": "stream",
          "text": [
            "46.6\n",
            "5140.0\n",
            "\n",
            "\n",
            "mpg         46.6\n",
            "weight    5140.0\n",
            "dtype: float64\n"
          ],
          "name": "stdout"
        }
      ]
    },
    {
      "cell_type": "code",
      "metadata": {
        "colab": {
          "base_uri": "https://localhost:8080/"
        },
        "id": "1kzSOzvHaYDz",
        "outputId": "99031402-0a88-4af1-b68e-d3cdd2222878"
      },
      "source": [
        "#2-6\r\n",
        "print(df.corr())\r\n",
        "print(df[['weight','mpg']].corr())"
      ],
      "execution_count": null,
      "outputs": [
        {
          "output_type": "stream",
          "text": [
            "                   mpg  cylinder  ...  model year    origin\n",
            "mpg           1.000000 -0.775396  ...    0.579267  0.563450\n",
            "cylinder     -0.775396  1.000000  ...   -0.348746 -0.562543\n",
            "displacement -0.804203  0.950721  ...   -0.370164 -0.609409\n",
            "weight       -0.831741  0.896017  ...   -0.306564 -0.581024\n",
            "acceleration  0.420289 -0.505419  ...    0.288137  0.205873\n",
            "model year    0.579267 -0.348746  ...    1.000000  0.180662\n",
            "origin        0.563450 -0.562543  ...    0.180662  1.000000\n",
            "\n",
            "[7 rows x 7 columns]\n",
            "          weight       mpg\n",
            "weight  1.000000 -0.831741\n",
            "mpg    -0.831741  1.000000\n"
          ],
          "name": "stdout"
        }
      ]
    },
    {
      "cell_type": "code",
      "metadata": {
        "colab": {
          "base_uri": "https://localhost:8080/"
        },
        "id": "uXdpjRQaggFI",
        "outputId": "32881eb5-9438-4ea0-9838-dcf39dffa417"
      },
      "source": [
        "import pandas as pd\r\n",
        "df=pd.read_excel(\"남북한발전전력량.xlsx\")\r\n",
        "\r\n",
        "\r\n",
        "print(df.head(5))\r\n",
        "print('\\n')\r\n",
        "print(df.tail(5))\r\n",
        "print(df)"
      ],
      "execution_count": 6,
      "outputs": [
        {
          "output_type": "stream",
          "text": [
            "  전력량 (억㎾h) 발전 전력별  1990  1991  1992  1993  ...  2011  2012  2013  2014  2015  2016\n",
            "0        남한     합계  1077  1186  1310  1444  ...  4969  5096  5171  5220  5281  5404\n",
            "1       NaN     수력    64    51    49    60  ...    78    77    84    78    58    66\n",
            "2       NaN     화력   484   573   696   803  ...  3343  3430  3581  3427  3402  3523\n",
            "3       NaN    원자력   529   563   565   581  ...  1547  1503  1388  1564  1648  1620\n",
            "4       NaN    신재생     -     -     -     -  ...     -    86   118   151   173   195\n",
            "\n",
            "[5 rows x 29 columns]\n",
            "\n",
            "\n",
            "  전력량 (억㎾h) 발전 전력별 1990 1991 1992 1993 1994  ... 2010 2011 2012 2013 2014 2015 2016\n",
            "4       NaN    신재생    -    -    -    -    -  ...    -    -   86  118  151  173  195\n",
            "5        북한     합계  277  263  247  221  231  ...  237  211  215  221  216  190  239\n",
            "6       NaN     수력  156  150  142  133  138  ...  134  132  135  139  130  100  128\n",
            "7       NaN     화력  121  113  105   88   93  ...  103   79   80   82   86   90  111\n",
            "8       NaN    원자력    -    -    -    -    -  ...    -    -    -    -    -    -    -\n",
            "\n",
            "[5 rows x 29 columns]\n",
            "  전력량 (억㎾h) 발전 전력별  1990  1991  1992  1993  ...  2011  2012  2013  2014  2015  2016\n",
            "0        남한     합계  1077  1186  1310  1444  ...  4969  5096  5171  5220  5281  5404\n",
            "1       NaN     수력    64    51    49    60  ...    78    77    84    78    58    66\n",
            "2       NaN     화력   484   573   696   803  ...  3343  3430  3581  3427  3402  3523\n",
            "3       NaN    원자력   529   563   565   581  ...  1547  1503  1388  1564  1648  1620\n",
            "4       NaN    신재생     -     -     -     -  ...     -    86   118   151   173   195\n",
            "5        북한     합계   277   263   247   221  ...   211   215   221   216   190   239\n",
            "6       NaN     수력   156   150   142   133  ...   132   135   139   130   100   128\n",
            "7       NaN     화력   121   113   105    88  ...    79    80    82    86    90   111\n",
            "8       NaN    원자력     -     -     -     -  ...     -     -     -     -     -     -\n",
            "\n",
            "[9 rows x 29 columns]\n"
          ],
          "name": "stdout"
        }
      ]
    },
    {
      "cell_type": "code",
      "metadata": {
        "colab": {
          "base_uri": "https://localhost:8080/",
          "height": 763
        },
        "id": "4HcFaBKtiN7G",
        "outputId": "047fa539-b570-48ed-eb32-fbeb78f5fd04"
      },
      "source": [
        "#df_ns=df.iloc[[0,6], 3:]\r\n",
        "#print(df_ns)\r\n",
        "\r\n",
        "#df_ns.index= ['South','North']\r\n",
        "#df_ns\r\n",
        "#print(df_ns.dtypes)\r\n",
        "\r\n",
        "#df_ns.columns=df_ns.columns.map(int)\r\n",
        "#df_ns\r\n",
        "#print(df_ns.iloc[:,3] )\r\n",
        "\r\n",
        "df_ns.columns=df_ns.columns.map(int)\r\n",
        "\r\n",
        "tdf_ns=df_ns.T\r\n",
        "print(tdf_ns)\r\n",
        "tdfns.plot()\r\n"
      ],
      "execution_count": null,
      "outputs": [
        {
          "output_type": "stream",
          "text": [
            "   South North\n",
            "3   1991   263\n",
            "4   1992   247\n",
            "5   1993   221\n",
            "6   1994   231\n",
            "7   1995   230\n",
            "8   1996   213\n",
            "9   1997   193\n",
            "10  1998   170\n",
            "11  1999   186\n",
            "12  2000   194\n",
            "13  2001   202\n",
            "14  2002   190\n",
            "15  2003   196\n",
            "16  2004   206\n",
            "17  2005   215\n",
            "18  2006   225\n",
            "19  2007   236\n",
            "20  2008   255\n",
            "21  2009   235\n",
            "22  2010   237\n",
            "23  2011   211\n",
            "24  2012   215\n",
            "25  2013   221\n",
            "26  2014   216\n",
            "27  2015   190\n",
            "28  2016   239\n"
          ],
          "name": "stdout"
        },
        {
          "output_type": "execute_result",
          "data": {
            "text/plain": [
              "<matplotlib.axes._subplots.AxesSubplot at 0x7ff55c010f60>"
            ]
          },
          "metadata": {
            "tags": []
          },
          "execution_count": 155
        },
        {
          "output_type": "display_data",
          "data": {
            "image/png": "[encoded data removed]",
            "text/plain": [
              "<Figure size 432x288 with 1 Axes>"
            ]
          },
          "metadata": {
            "tags": [],
            "needs_background": "light"
          }
        }
      ]
    },
    {
      "cell_type": "code",
      "metadata": {
        "colab": {
          "base_uri": "https://localhost:8080/",
          "height": 552
        },
        "id": "A9pwVJRPngCL",
        "outputId": "134febec-45fa-4c88-e4e7-12b017dbcd9d"
      },
      "source": [
        "df_ns=df.iloc[[0,5], 3:]\r\n",
        "df_ns.index= ['South','North']\r\n",
        "df_ns.columns=df_ns.columns.map(int)\r\n",
        "print(df_ns.head())\r\n",
        "\r\n",
        "df_ns.plot()\r\n",
        "#print(df_ns.dtypes)"
      ],
      "execution_count": 8,
      "outputs": [
        {
          "output_type": "stream",
          "text": [
            "       1991  1992  1993  1994  1995  1996  ...  2011  2012  2013  2014  2015  2016\n",
            "South  1186  1310  1444  1650  1847  2055  ...  4969  5096  5171  5220  5281  5404\n",
            "North   263   247   221   231   230   213  ...   211   215   221   216   190   239\n",
            "\n",
            "[2 rows x 26 columns]\n"
          ],
          "name": "stdout"
        },
        {
          "output_type": "execute_result",
          "data": {
            "text/plain": [
              "<matplotlib.axes._subplots.AxesSubplot at 0x7f3f9003bf60>"
            ]
          },
          "metadata": {
            "tags": []
          },
          "execution_count": 8
        },
        {
          "output_type": "display_data",
          "data": {
            "image/png": "[encoded data removed]",
            "text/plain": [
              "<Figure size 432x288 with 1 Axes>"
            ]
          },
          "metadata": {
            "tags": [],
            "needs_background": "light"
          }
        }
      ]
    },
    {
      "cell_type": "code",
      "metadata": {
        "colab": {
          "base_uri": "https://localhost:8080/",
          "height": 1000
        },
        "id": "_vHkYczYju_j",
        "outputId": "770b1e34-3286-4791-da1d-4cc0893aa26a"
      },
      "source": [
        "tdf_ns=df_ns.T\r\n",
        "##tdf_ns\r\n",
        "tdf_ns.plot() \r\n",
        "tdf_ns"
      ],
      "execution_count": 13,
      "outputs": [
        {
          "output_type": "execute_result",
          "data": {
            "text/html": [
              "<div>\n",
              "<style scoped>\n",
              "    .dataframe tbody tr th:only-of-type {\n",
              "        vertical-align: middle;\n",
              "    }\n",
              "\n",
              "    .dataframe tbody tr th {\n",
              "        vertical-align: top;\n",
              "    }\n",
              "\n",
              "    .dataframe thead th {\n",
              "        text-align: right;\n",
              "    }\n",
              "</style>\n",
              "<table border=\"1\" class=\"dataframe\">\n",
              "  <thead>\n",
              "    <tr style=\"text-align: right;\">\n",
              "      <th></th>\n",
              "      <th>South</th>\n",
              "      <th>North</th>\n",
              "    </tr>\n",
              "  </thead>\n",
              "  <tbody>\n",
              "    <tr>\n",
              "      <th>1991</th>\n",
              "      <td>1186</td>\n",
              "      <td>263</td>\n",
              "    </tr>\n",
              "    <tr>\n",
              "      <th>1992</th>\n",
              "      <td>1310</td>\n",
              "      <td>247</td>\n",
              "    </tr>\n",
              "    <tr>\n",
              "      <th>1993</th>\n",
              "      <td>1444</td>\n",
              "      <td>221</td>\n",
              "    </tr>\n",
              "    <tr>\n",
              "      <th>1994</th>\n",
              "      <td>1650</td>\n",
              "      <td>231</td>\n",
              "    </tr>\n",
              "    <tr>\n",
              "      <th>1995</th>\n",
              "      <td>1847</td>\n",
              "      <td>230</td>\n",
              "    </tr>\n",
              "    <tr>\n",
              "      <th>1996</th>\n",
              "      <td>2055</td>\n",
              "      <td>213</td>\n",
              "    </tr>\n",
              "    <tr>\n",
              "      <th>1997</th>\n",
              "      <td>2244</td>\n",
              "      <td>193</td>\n",
              "    </tr>\n",
              "    <tr>\n",
              "      <th>1998</th>\n",
              "      <td>2153</td>\n",
              "      <td>170</td>\n",
              "    </tr>\n",
              "    <tr>\n",
              "      <th>1999</th>\n",
              "      <td>2393</td>\n",
              "      <td>186</td>\n",
              "    </tr>\n",
              "    <tr>\n",
              "      <th>2000</th>\n",
              "      <td>2664</td>\n",
              "      <td>194</td>\n",
              "    </tr>\n",
              "    <tr>\n",
              "      <th>2001</th>\n",
              "      <td>2852</td>\n",
              "      <td>202</td>\n",
              "    </tr>\n",
              "    <tr>\n",
              "      <th>2002</th>\n",
              "      <td>3065</td>\n",
              "      <td>190</td>\n",
              "    </tr>\n",
              "    <tr>\n",
              "      <th>2003</th>\n",
              "      <td>3225</td>\n",
              "      <td>196</td>\n",
              "    </tr>\n",
              "    <tr>\n",
              "      <th>2004</th>\n",
              "      <td>3421</td>\n",
              "      <td>206</td>\n",
              "    </tr>\n",
              "    <tr>\n",
              "      <th>2005</th>\n",
              "      <td>3646</td>\n",
              "      <td>215</td>\n",
              "    </tr>\n",
              "    <tr>\n",
              "      <th>2006</th>\n",
              "      <td>3812</td>\n",
              "      <td>225</td>\n",
              "    </tr>\n",
              "    <tr>\n",
              "      <th>2007</th>\n",
              "      <td>4031</td>\n",
              "      <td>236</td>\n",
              "    </tr>\n",
              "    <tr>\n",
              "      <th>2008</th>\n",
              "      <td>4224</td>\n",
              "      <td>255</td>\n",
              "    </tr>\n",
              "    <tr>\n",
              "      <th>2009</th>\n",
              "      <td>4336</td>\n",
              "      <td>235</td>\n",
              "    </tr>\n",
              "    <tr>\n",
              "      <th>2010</th>\n",
              "      <td>4747</td>\n",
              "      <td>237</td>\n",
              "    </tr>\n",
              "    <tr>\n",
              "      <th>2011</th>\n",
              "      <td>4969</td>\n",
              "      <td>211</td>\n",
              "    </tr>\n",
              "    <tr>\n",
              "      <th>2012</th>\n",
              "      <td>5096</td>\n",
              "      <td>215</td>\n",
              "    </tr>\n",
              "    <tr>\n",
              "      <th>2013</th>\n",
              "      <td>5171</td>\n",
              "      <td>221</td>\n",
              "    </tr>\n",
              "    <tr>\n",
              "      <th>2014</th>\n",
              "      <td>5220</td>\n",
              "      <td>216</td>\n",
              "    </tr>\n",
              "    <tr>\n",
              "      <th>2015</th>\n",
              "      <td>5281</td>\n",
              "      <td>190</td>\n",
              "    </tr>\n",
              "    <tr>\n",
              "      <th>2016</th>\n",
              "      <td>5404</td>\n",
              "      <td>239</td>\n",
              "    </tr>\n",
              "  </tbody>\n",
              "</table>\n",
              "</div>"
            ],
            "text/plain": [
              "     South North\n",
              "1991  1186   263\n",
              "1992  1310   247\n",
              "1993  1444   221\n",
              "1994  1650   231\n",
              "1995  1847   230\n",
              "1996  2055   213\n",
              "1997  2244   193\n",
              "1998  2153   170\n",
              "1999  2393   186\n",
              "2000  2664   194\n",
              "2001  2852   202\n",
              "2002  3065   190\n",
              "2003  3225   196\n",
              "2004  3421   206\n",
              "2005  3646   215\n",
              "2006  3812   225\n",
              "2007  4031   236\n",
              "2008  4224   255\n",
              "2009  4336   235\n",
              "2010  4747   237\n",
              "2011  4969   211\n",
              "2012  5096   215\n",
              "2013  5171   221\n",
              "2014  5220   216\n",
              "2015  5281   190\n",
              "2016  5404   239"
            ]
          },
          "metadata": {
            "tags": []
          },
          "execution_count": 13
        },
        {
          "output_type": "display_data",
          "data": {
            "image/png": "[encoded data removed]",
            "text/plain": [
              "<Figure size 432x288 with 1 Axes>"
            ]
          },
          "metadata": {
            "tags": [],
            "needs_background": "light"
          }
        }
      ]
    },
    {
      "cell_type": "code",
      "metadata": {
        "colab": {
          "base_uri": "https://localhost:8080/",
          "height": 298
        },
        "id": "sqV4YUOhS9Ve",
        "outputId": "c1f81d71-117f-415a-e9df-f93775ecf027"
      },
      "source": [
        "tdf_ns.plot(kind='bar')"
      ],
      "execution_count": 16,
      "outputs": [
        {
          "output_type": "execute_result",
          "data": {
            "text/plain": [
              "<matplotlib.axes._subplots.AxesSubplot at 0x7f3f850592b0>"
            ]
          },
          "metadata": {
            "tags": []
          },
          "execution_count": 16
        },
        {
          "output_type": "display_data",
          "data": {
            "image/png": "[encoded data removed]",
            "text/plain": [
              "<Figure size 432x288 with 1 Axes>"
            ]
          },
          "metadata": {
            "tags": [],
            "needs_background": "light"
          }
        }
      ]
    },
    {
      "cell_type": "code",
      "metadata": {
        "colab": {
          "base_uri": "https://localhost:8080/",
          "height": 283
        },
        "id": "LB8b38ioT2Kg",
        "outputId": "6fe78967-738c-4790-a760-69710b9f7ccf"
      },
      "source": [
        "tdf_ns.plot(kind='hist')"
      ],
      "execution_count": 19,
      "outputs": [
        {
          "output_type": "execute_result",
          "data": {
            "text/plain": [
              "<matplotlib.axes._subplots.AxesSubplot at 0x7f3f84f6acf8>"
            ]
          },
          "metadata": {
            "tags": []
          },
          "execution_count": 19
        },
        {
          "output_type": "display_data",
          "data": {
            "image/png": "[encoded data removed]",
            "text/plain": [
              "<Figure size 432x288 with 1 Axes>"
            ]
          },
          "metadata": {
            "tags": [],
            "needs_background": "light"
          }
        }
      ]
    },
    {
      "cell_type": "code",
      "metadata": {
        "colab": {
          "base_uri": "https://localhost:8080/",
          "height": 297
        },
        "id": "eDwFfnc3UTi-",
        "outputId": "b16ce822-8c2d-4ecf-8203-297956646ec0"
      },
      "source": [
        "df=pd.read_csv(\"auto-mpg.csv\",header=None)\r\n",
        "df\r\n",
        "df.columns=(\"mpg\",\"cylinder\",\"displacement\",\"horsepower\",\"weight\",\r\n",
        "        \"acceleration\",\"model year\", \"origin\",\"name\")\r\n",
        "df.plot(kind=\"scatter\",x='weight',y='mpg')\r\n",
        "\r\n",
        "df.index\r\n"
      ],
      "execution_count": 31,
      "outputs": [
        {
          "output_type": "execute_result",
          "data": {
            "text/plain": [
              "RangeIndex(start=0, stop=398, step=1)"
            ]
          },
          "metadata": {
            "tags": []
          },
          "execution_count": 31
        },
        {
          "output_type": "display_data",
          "data": {
            "image/png": "[encoded data removed]",
            "text/plain": [
              "<Figure size 432x288 with 1 Axes>"
            ]
          },
          "metadata": {
            "tags": [],
            "needs_background": "light"
          }
        }
      ]
    },
    {
      "cell_type": "code",
      "metadata": {
        "colab": {
          "base_uri": "https://localhost:8080/"
        },
        "id": "_Lse7Voj2_Yw",
        "outputId": "b539c12e-dd91-4afb-adf5-9abd44183b99"
      },
      "source": [
        "df.values"
      ],
      "execution_count": 33,
      "outputs": [
        {
          "output_type": "execute_result",
          "data": {
            "text/plain": [
              "array([[18.0, 8, 307.0, ..., 70, 1, 'chevrolet chevelle malibu'],\n",
              "       [15.0, 8, 350.0, ..., 70, 1, 'buick skylark 320'],\n",
              "       [18.0, 8, 318.0, ..., 70, 1, 'plymouth satellite'],\n",
              "       ...,\n",
              "       [32.0, 4, 135.0, ..., 82, 1, 'dodge rampage'],\n",
              "       [28.0, 4, 120.0, ..., 82, 1, 'ford ranger'],\n",
              "       [31.0, 4, 119.0, ..., 82, 1, 'chevy s-10']], dtype=object)"
            ]
          },
          "metadata": {
            "tags": []
          },
          "execution_count": 33
        }
      ]
    }
  ]
}